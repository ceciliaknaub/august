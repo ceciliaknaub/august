{
 "cells": [
  {
   "cell_type": "markdown",
   "id": "d6aae497",
   "metadata": {},
   "source": [
    "# Showcase"
   ]
  },
  {
   "cell_type": "code",
   "execution_count": 2,
   "id": "9912a870",
   "metadata": {},
   "outputs": [],
   "source": [
    "import sys\n",
    "import tracery\n",
    "import requests\n",
    "import random\n",
    "import pandas as pd\n",
    "import math\n",
    "from tracery import modifiers\n",
    "from tracery.modifiers import base_english"
   ]
  },
  {
   "cell_type": "code",
   "execution_count": 3,
   "id": "1902d17b",
   "metadata": {},
   "outputs": [],
   "source": [
    "import sentencex\n",
    "text = open(\"./corpus.txt\").read()\n",
    "sentences = sentencex.segment(\"en\", text) # sentencex supports languages other than english! see the docs\n",
    "# filter empty strings and fix mid-sentence line breaks\n",
    "sentences = [item.replace(\"\\n\", \" \") for item in sentences if len(item.strip()) > 0]"
   ]
  },
  {
   "cell_type": "code",
   "execution_count": 4,
   "id": "1d00beca",
   "metadata": {},
   "outputs": [],
   "source": [
    "from shoestrings import TextGenerator\n",
    "from shoestrings.tokenizers import SimpleWordTokenizer, SimpleCharacterTokenizer"
   ]
  },
  {
   "cell_type": "code",
   "execution_count": 5,
   "id": "09b27df4",
   "metadata": {},
   "outputs": [],
   "source": [
    "gen = TextGenerator(n=3, tokenizer=SimpleWordTokenizer(), source=sentences)"
   ]
  },
  {
   "cell_type": "markdown",
   "id": "fecfd485",
   "metadata": {},
   "source": [
    "Generate lines to make up eah stanza."
   ]
  },
  {
   "cell_type": "code",
   "execution_count": 887,
   "id": "e58cfa52",
   "metadata": {
    "scrolled": true
   },
   "outputs": [
    {
     "name": "stdout",
     "output_type": "stream",
     "text": [
      "You walked me home after but it felt like an attack.\n"
     ]
    }
   ],
   "source": [
    "line1 = gen.generate_one(start_string=\"You walked\", temperature=2.0, max_tokens=25)\n",
    "print(line1)"
   ]
  },
  {
   "cell_type": "code",
   "execution_count": 210,
   "id": "8f4b19f0",
   "metadata": {},
   "outputs": [
    {
     "name": "stdout",
     "output_type": "stream",
     "text": [
      "The air is slick with humidity.\n"
     ]
    }
   ],
   "source": [
    "line2 = gen.generate_one(start_string=\"The air\", temperature=5.0, max_tokens=25)\n",
    "print(line2)"
   ]
  },
  {
   "cell_type": "code",
   "execution_count": 975,
   "id": "7f858f99",
   "metadata": {},
   "outputs": [
    {
     "name": "stdout",
     "output_type": "stream",
     "text": [
      "It was just data.\n"
     ]
    }
   ],
   "source": [
    "line3 = gen.generate_one(start_string=\"It was\", temperature=1.0, max_tokens=20)\n",
    "print(line3)"
   ]
  },
  {
   "cell_type": "code",
   "execution_count": 451,
   "id": "a4938c4e",
   "metadata": {},
   "outputs": [
    {
     "data": {
      "text/plain": [
       "'You asked me what my concerns were.'"
      ]
     },
     "execution_count": 451,
     "metadata": {},
     "output_type": "execute_result"
    }
   ],
   "source": [
    "line4 = gen.generate_one(start_string=\"You asked\", temperature=2.0, max_tokens=25)\n",
    "line4"
   ]
  },
  {
   "cell_type": "code",
   "execution_count": 557,
   "id": "31be6a1a",
   "metadata": {},
   "outputs": [
    {
     "data": {
      "text/plain": [
       "\"Can' t you know time is a graveyard of teeth.\""
      ]
     },
     "execution_count": 557,
     "metadata": {},
     "output_type": "execute_result"
    }
   ],
   "source": [
    "line5 = gen.generate_one(start_string=\"Can't you\", temperature=4.0, max_tokens=20)\n",
    "line5"
   ]
  },
  {
   "cell_type": "code",
   "execution_count": 608,
   "id": "e2851e0b",
   "metadata": {
    "scrolled": true
   },
   "outputs": [
    {
     "data": {
      "text/plain": [
       "\"There' s no space to simply rest and enjoy running.\""
      ]
     },
     "execution_count": 608,
     "metadata": {},
     "output_type": "execute_result"
    }
   ],
   "source": [
    "line6 = gen.generate_one(start_string=\"There's no\", temperature=5.0, max_tokens=20)\n",
    "line6"
   ]
  },
  {
   "cell_type": "code",
   "execution_count": 764,
   "id": "041a4774",
   "metadata": {},
   "outputs": [
    {
     "data": {
      "text/plain": [
       "'The world will hang the troubled fool in front of them.'"
      ]
     },
     "execution_count": 764,
     "metadata": {},
     "output_type": "execute_result"
    }
   ],
   "source": [
    "line7 = gen.generate_one(start_string=\"The world\", temperature=5.0, max_tokens=20)\n",
    "line7"
   ]
  },
  {
   "cell_type": "code",
   "execution_count": 830,
   "id": "f3417189",
   "metadata": {},
   "outputs": [
    {
     "data": {
      "text/plain": [
       "'It was often because the clock’ s, my school days were like living in our neighborhood, your writing will be discouraged seeing'"
      ]
     },
     "execution_count": 830,
     "metadata": {},
     "output_type": "execute_result"
    }
   ],
   "source": [
    "line8 = gen.generate_one(start_string=\"It was\", temperature=2.0, max_tokens=25)\n",
    "line8"
   ]
  },
  {
   "cell_type": "code",
   "execution_count": null,
   "id": "e15e4ef3",
   "metadata": {},
   "outputs": [],
   "source": [
    "combined = \"\".join(line1 + line2 + line3)\n",
    "combined_words = combined.split()"
   ]
  },
  {
   "cell_type": "code",
   "execution_count": 831,
   "id": "d6485654",
   "metadata": {},
   "outputs": [],
   "source": [
    "combined2 = \"\".join(line4 + line5 + line6 + line7)\n",
    "combined_words2 = combined2.split()"
   ]
  },
  {
   "cell_type": "code",
   "execution_count": 402,
   "id": "c3d47f9e",
   "metadata": {},
   "outputs": [
    {
     "data": {
      "text/plain": [
       "'You never made me feel like you.'"
      ]
     },
     "execution_count": 402,
     "metadata": {},
     "output_type": "execute_result"
    }
   ],
   "source": [
    "line9 = gen.generate_one(start_string=\"You never\", temperature=3.0, max_tokens=25)\n",
    "line9"
   ]
  },
  {
   "cell_type": "code",
   "execution_count": 915,
   "id": "0f6c0b7e",
   "metadata": {},
   "outputs": [
    {
     "data": {
      "text/plain": [
       "'all this instead of the branch.'"
      ]
     },
     "execution_count": 915,
     "metadata": {},
     "output_type": "execute_result"
    }
   ],
   "source": [
    "line10 = gen.generate_one(start_string=\"all this\", temperature=5.0, max_tokens=15)\n",
    "line10"
   ]
  },
  {
   "cell_type": "code",
   "execution_count": 1040,
   "id": "dc8a26b8",
   "metadata": {},
   "outputs": [
    {
     "data": {
      "text/plain": [
       "'the light fading.'"
      ]
     },
     "execution_count": 1040,
     "metadata": {},
     "output_type": "execute_result"
    }
   ],
   "source": [
    "line11 = gen.generate_one(start_string=\"the light\", temperature=5.0, max_tokens=20)\n",
    "line11"
   ]
  },
  {
   "cell_type": "code",
   "execution_count": 1044,
   "id": "b7a3c0db",
   "metadata": {},
   "outputs": [
    {
     "data": {
      "text/plain": [
       "'You never made me feel like you.All this instead of the branch.The light fading.'"
      ]
     },
     "execution_count": 1044,
     "metadata": {},
     "output_type": "execute_result"
    }
   ],
   "source": [
    "combined3 = \"\".join(line9 + line10.capitalize() + line11.capitalize())\n",
    "combined_words3 = combined3.split()\n",
    "combined3"
   ]
  },
  {
   "cell_type": "code",
   "execution_count": 428,
   "id": "a10b41a6",
   "metadata": {},
   "outputs": [
    {
     "data": {
      "text/plain": [
       "'It was much safer this way.'"
      ]
     },
     "execution_count": 428,
     "metadata": {},
     "output_type": "execute_result"
    }
   ],
   "source": [
    "line12 = gen.generate_one(start_string=\"It was\", temperature=3.0, max_tokens=30)\n",
    "line12"
   ]
  },
  {
   "cell_type": "markdown",
   "id": "8bd6a1ee",
   "metadata": {},
   "source": [
    "After generating lines and stanzas, and playing with the visual presentation of the posem, I decided to break each stanza down manually to create an image that better represented the desired compisition (a skline) and better filled white space. \n",
    "\n",
    "The line *the correlation between concreteness and variance* in the second stanza was a clause from a previously generated random line. I kept it in because I liked it and I wanted to. It ties in well with the following line."
   ]
  },
  {
   "cell_type": "code",
   "execution_count": 257,
   "id": "42a65136",
   "metadata": {},
   "outputs": [],
   "source": [
    "stanza1 = \"You walked me home after but it felt like an attack.\"\n",
    "stanza2 = \"The air was slick with humidity, the correlation between concreteness and variance. It was just data.\"\n",
    "stanza3 = \"You asked me wh at my concerns were. Can' t you know time is a graveyard of teeth? There' s no space to simply rest and enjoy running.       \" \n",
    "stanza4 = \"The world will hang the troubled fool in front of them.\"\n",
    "stanza5 = \"You never made me feel like you. All this instead of the branch. The light fading.\"\n",
    "stanza6 = \"It was much safer this way.\""
   ]
  },
  {
   "cell_type": "markdown",
   "id": "47ae0db9",
   "metadata": {},
   "source": [
    "Printed the lines out programtically."
   ]
  },
  {
   "cell_type": "code",
   "execution_count": 258,
   "id": "6c2424dc",
   "metadata": {},
   "outputs": [],
   "source": [
    "spaces1 = int((len(stanza3) / 14) - (len(stanza1) / 14))*14\n",
    "spaces2 = int((len(stanza3) / 6) - (len(stanza2) / 6))*6\n",
    "spaces4 = int((len(stanza3) / 13) - (len(stanza4) / 13))*13\n",
    "spaces5 = int((len(stanza3) / 9) - (len(stanza5) / 9))*9\n",
    "spaces6 = int((len(stanza3) / 18) - (len(stanza6) / 18))*18"
   ]
  },
  {
   "cell_type": "code",
   "execution_count": 259,
   "id": "397a51bd",
   "metadata": {},
   "outputs": [],
   "source": [
    "stanza1 = \" \"*spaces1 + stanza1\n",
    "stanza2 = \" \"*spaces2 + stanza2\n",
    "stanza4 = \" \"*spaces4 + stanza4\n",
    "stanza5 = \" \"*spaces5 + stanza5\n",
    "stanza6 = \" \"*spaces6 + stanza6\n",
    "start = 0\n",
    "count = 0"
   ]
  },
  {
   "cell_type": "code",
   "execution_count": 260,
   "id": "024bae6c",
   "metadata": {
    "scrolled": true
   },
   "outputs": [
    {
     "name": "stdout",
     "output_type": "stream",
     "text": [
      "\t\t\t\t\t\n",
      "      \t      \tYou as\t      \t      \t      \n",
      "      \t      \tked me\t      \t      \t      \n",
      "      \t      \t wh at\t      \t      \t      \n",
      "      \t      \t my co\t      \t      \t      \n",
      "      \t      \tncerns\t      \t      \t      \n",
      "      \t      \t were.\t      \t      \t      \n",
      "      \tThe ai\t Can' \t      \t      \t      \n",
      "      \tr was \tt you \t      \t      \t      \n",
      "      \tslick \tknow t\t      \t      \t      \n",
      "      \twith h\time is\t      \tYou ne\t      \n",
      "      \tumidit\t a gra\t      \tver ma\t      \n",
      "      \ty, the\tveyard\t      \tde me \t      \n",
      "      \t corre\t of te\t      \tfeel l\t      \n",
      "      \tlation\teth? T\tThe wo\tike yo\t      \n",
      "You wa\t betwe\there' \trld wi\tu. All\t      \n",
      "lked m\ten con\ts no s\tll han\t this \t      \n",
      "e home\tcreten\tpace t\tg the \tinstea\t      \n",
      " after\tess an\to simp\ttroubl\td of t\t      \n",
      " but i\td vari\tly res\ted foo\the bra\tIt was\n",
      "t felt\tance. \tt and \tl in f\tnch. T\t much \n",
      " like \tIt was\tenjoy \tront o\the lig\tsafer \n",
      "an att\t just \trunnin\tf them\tht fad\tthis w\n",
      "ack.\tdata.\tg.    \t.\ting.\tay.\n"
     ]
    }
   ],
   "source": [
    "for i in stanza3:\n",
    "    if count % 6 == 0:\n",
    "        print(stanza1[start:count] + \n",
    "              \"\\t\" + stanza2[start:count] + \n",
    "              \"\\t\" + stanza3[start:count] + \n",
    "              \"\\t\" + stanza4[start:count] +\n",
    "             \"\\t\" + stanza5[start:count] +\n",
    "             \"\\t\" + stanza6[start:count])\n",
    "        start = count\n",
    "    count+=1"
   ]
  },
  {
   "cell_type": "code",
   "execution_count": null,
   "id": "6d8bdf00",
   "metadata": {},
   "outputs": [],
   "source": []
  }
 ],
 "metadata": {
  "kernelspec": {
   "display_name": "Python 3 (ipykernel)",
   "language": "python",
   "name": "python3"
  },
  "language_info": {
   "codemirror_mode": {
    "name": "ipython",
    "version": 3
   },
   "file_extension": ".py",
   "mimetype": "text/x-python",
   "name": "python",
   "nbconvert_exporter": "python",
   "pygments_lexer": "ipython3",
   "version": "3.11.4"
  }
 },
 "nbformat": 4,
 "nbformat_minor": 5
}
